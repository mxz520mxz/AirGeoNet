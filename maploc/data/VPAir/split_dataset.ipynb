{
 "cells": [
  {
   "cell_type": "code",
   "execution_count": 9,
   "metadata": {},
   "outputs": [],
   "source": [
    "import numpy as np\n",
    "import cv2\n",
    "import os\n",
    "import matplotlib.pyplot as plt\n",
    "import csv\n",
    "import random"
   ]
  },
  {
   "cell_type": "code",
   "execution_count": 5,
   "metadata": {},
   "outputs": [
    {
     "data": {
      "text/plain": [
       "2706"
      ]
     },
     "execution_count": 5,
     "metadata": {},
     "output_type": "execute_result"
    }
   ],
   "source": [
    "path = '../../../datasets/VPAir/VPAir/poses.csv'\n",
    "file_name = []\n",
    "with open(path, newline='') as csvfile:\n",
    "    reader = csv.DictReader(csvfile)\n",
    "    for row in reader:\n",
    "        file_name.append(row['filename'])\n",
    "\n",
    "len(file_name)"
   ]
  },
  {
   "cell_type": "code",
   "execution_count": 10,
   "metadata": {},
   "outputs": [
    {
     "name": "stdout",
     "output_type": "stream",
     "text": [
      "2140 255 311\n"
     ]
    }
   ],
   "source": [
    "# 从CSV文件中读取多行内容\n",
    "csv_file_path = '../../../datasets/VPAir/VPAir/poses.csv'\n",
    "train_file_path = '../../../datasets/VPAir/train_files.txt'\n",
    "test_file_path = '../../../datasets/VPAir/test_files.txt'\n",
    "val_file_path = '../../../datasets/VPAir/val_files.txt'\n",
    "\n",
    "with open(csv_file_path, 'r', newline='', encoding='utf-8') as csv_file:\n",
    "    reader = csv.reader(csv_file)\n",
    "    next(reader)\n",
    "    lines = [','.join(row) for row in reader]\n",
    "\n",
    "train_file = []\n",
    "test_file = []\n",
    "val_file = []\n",
    "\n",
    "for row in lines:\n",
    "    choice = random.randint(0,100)\n",
    "    if choice < 80:\n",
    "        train_file.append(row)\n",
    "    elif choice < 90:\n",
    "        test_file.append(row)\n",
    "    else:\n",
    "        val_file.append(row)\n",
    "\n",
    "\n",
    "print(len(train_file),len(test_file),len(val_file))\n",
    "\n"
   ]
  },
  {
   "cell_type": "code",
   "execution_count": 11,
   "metadata": {},
   "outputs": [],
   "source": [
    "with open(train_file_path, 'w', encoding='utf-8') as txt_file:\n",
    "    for line in train_file:\n",
    "        txt_file.write(line + '\\n')\n",
    "\n",
    "\n",
    "with open(test_file_path, 'w', encoding='utf-8') as txt_file:\n",
    "    for line in test_file:\n",
    "        txt_file.write(line + '\\n')\n",
    "\n",
    "\n",
    "with open(val_file_path, 'w', encoding='utf-8') as txt_file:\n",
    "    for line in val_file:\n",
    "        txt_file.write(line + '\\n')"
   ]
  },
  {
   "cell_type": "code",
   "execution_count": null,
   "metadata": {},
   "outputs": [],
   "source": []
  }
 ],
 "metadata": {
  "kernelspec": {
   "display_name": "match",
   "language": "python",
   "name": "python3"
  },
  "language_info": {
   "codemirror_mode": {
    "name": "ipython",
    "version": 3
   },
   "file_extension": ".py",
   "mimetype": "text/x-python",
   "name": "python",
   "nbconvert_exporter": "python",
   "pygments_lexer": "ipython3",
   "version": "3.9.0"
  }
 },
 "nbformat": 4,
 "nbformat_minor": 2
}
